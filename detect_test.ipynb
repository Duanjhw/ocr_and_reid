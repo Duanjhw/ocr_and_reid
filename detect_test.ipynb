{
 "cells": [
  {
   "cell_type": "code",
   "execution_count": 15,
   "metadata": {},
   "outputs": [
    {
     "name": "stderr",
     "output_type": "stream",
     "text": [
      "Using cache found in /Users/duan/.cache/torch/hub/ultralytics_yolov5_master\n",
      "YOLOv5 🚀 2023-11-25 Python-3.11.5 torch-2.1.1 CPU\n",
      "\n",
      "Fusing layers... \n",
      "YOLOv5s summary: 213 layers, 7225885 parameters, 0 gradients, 16.4 GFLOPs\n",
      "Adding AutoShape... \n"
     ]
    },
    {
     "name": "stdout",
     "output_type": "stream",
     "text": [
      "(384, 640, 3)\n",
      "(1384.5, 688.0, 123, 300)\n",
      "(953.0, 954.0, 184, 184)\n",
      "(595.0, 521.5, 90, 217)\n",
      "(970.0, 382.0, 60, 136)\n",
      "(736.0, 320.5, 36, 73)\n",
      "(779.5, 324.5, 55, 69)\n",
      "(556.0, 320.5, 52, 73)\n",
      "(503.0, 322.5, 42, 61)\n",
      "(1080, 1920, 3)\n"
     ]
    }
   ],
   "source": [
    "import torch\n",
    "\n",
    "model = torch.hub.load('ultralytics/yolov5', 'yolov5s')\n",
    "model.conf = 0.25  # confidence threshold (0-1)\n",
    "model.iou = 0.45  # NMS IoU threshold (0-1)\n",
    "model.classes = 0 \n",
    "model.agnostic_nms = True\n",
    "# im = 'https://ultralytics.com/images/zidane.jpg'  # file, Path, PIL.Image, OpenCV, nparray, list\n",
    "# results = model(im)  # inference\n",
    "# results.print()  \n",
    "\n",
    "def bbox_r(width, height, *xyxy):\n",
    "    \"\"\"\" Calculates the relative bounding box from absolute pixel values. \"\"\"\n",
    "    bbox_left = min([xyxy[0].item(), xyxy[2].item()])\n",
    "    bbox_top = min([xyxy[1].item(), xyxy[3].item()])\n",
    "    bbox_w = abs(xyxy[0].item() - xyxy[2].item())\n",
    "    bbox_h = abs(xyxy[1].item() - xyxy[3].item())\n",
    "    x_c = (bbox_left + bbox_w / 2)\n",
    "    y_c = (bbox_top + bbox_h / 2)\n",
    "    w = bbox_w\n",
    "    h = bbox_h\n",
    "    return x_c, y_c, w, h\n",
    "\n",
    "\n",
    "from round_utils.dataload import LoadVideo\n",
    "import cv2\n",
    "\n",
    "video_path = '/Users/duan/Documents/Yolov5-Deepsort-Fastreid/game_cut_demo.mp4'\n",
    "video = LoadVideo(video_path,img_size=640,start=0,end=1000)\n",
    "\n",
    "for img, ori_img, vid_cap in video:\n",
    "    # 将img的维度转换为（384，640，3）\n",
    "    img = img.transpose(1,2,0)\n",
    "    print(img.shape)\n",
    "    results = model(img)\n",
    "    # results.print()\n",
    "    # results.save()\n",
    "    # results.show()\n",
    "\n",
    "    detections = results.pandas().xyxy[0]\n",
    "    for _, row in detections.iterrows():\n",
    "        x1, y1, x2, y2 = row[['xmin', 'ymin', 'xmax', 'ymax']]\n",
    "        # 将x1, y1, x2, y2的大小转换到到ori_img的大小\n",
    "        x1 = int(x1 * ori_img.shape[1] / img.shape[1])\n",
    "        y1 = int(y1 * ori_img.shape[0] / img.shape[0])\n",
    "        x2 = int(x2 * ori_img.shape[1] / img.shape[1])\n",
    "        y2 = int(y2 * ori_img.shape[0] / img.shape[0])\n",
    "        print(bbox_r(ori_img.shape[1],ori_img.shape[0],[x1, y1, x2, y2]))\n",
    "        # 将这个坐标框在ori_img上画出来\n",
    "        cv2.rectangle(ori_img, (x1, y1), (x2, y2), (0, 0, 255), 2)\n",
    "    \n",
    "    # 写入图片\n",
    "    cv2.imwrite('test.jpg',ori_img)\n",
    "\n",
    "    print(ori_img.shape)\n",
    "    break\n"
   ]
  }
 ],
 "metadata": {
  "kernelspec": {
   "display_name": "pingpong_v1",
   "language": "python",
   "name": "python3"
  },
  "language_info": {
   "codemirror_mode": {
    "name": "ipython",
    "version": 3
   },
   "file_extension": ".py",
   "mimetype": "text/x-python",
   "name": "python",
   "nbconvert_exporter": "python",
   "pygments_lexer": "ipython3",
   "version": "3.11.5"
  }
 },
 "nbformat": 4,
 "nbformat_minor": 2
}
